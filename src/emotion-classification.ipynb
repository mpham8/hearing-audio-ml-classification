{
 "cells": [
  {
   "cell_type": "markdown",
   "metadata": {},
   "source": [
    "to do:\n",
    "implement wav2vec2-lg-xlsr-en-speech-emotion-recognition"
   ]
  }
 ],
 "metadata": {
  "language_info": {
   "name": "python"
  }
 },
 "nbformat": 4,
 "nbformat_minor": 2
}
