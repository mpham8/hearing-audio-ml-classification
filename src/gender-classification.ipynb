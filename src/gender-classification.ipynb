{
 "cells": [
  {
   "cell_type": "markdown",
   "metadata": {},
   "source": [
    "import library"
   ]
  },
  {
   "cell_type": "code",
   "execution_count": 1,
   "metadata": {},
   "outputs": [],
   "source": [
    "import torch\n",
    "import numpy as np\n",
    "from transformers import Wav2Vec2FeatureExtractor, Wav2Vec2ForSequenceClassification\n",
    "from scipy.io.wavfile import read"
   ]
  },
  {
   "cell_type": "markdown",
   "metadata": {},
   "source": [
    "config"
   ]
  },
  {
   "cell_type": "code",
   "execution_count": 2,
   "metadata": {},
   "outputs": [],
   "source": [
    "audio_path = [\"../data/1-17-2017/0.wav\", \"../data/1-17-2017/1.wav\", \"../data/1-17-2017/2.wav\", \"../data/1-17-2017/3.wav\", \"../data/1-17-2017/4.wav\", \"../data/1-17-2017/5.wav\"]\n",
    "#audio_path = [\"../data/1-17-2017/5.wav\"]\n",
    "\n",
    "modelw = Wav2Vec2ForSequenceClassification.from_pretrained('alefiury/wav2vec2-large-xlsr-53-gender-recognition-librispeech')\n",
    "processor = Wav2Vec2FeatureExtractor.from_pretrained('alefiury/wav2vec2-large-xlsr-53-gender-recognition-librispeech')\n",
    "device = torch.device(\"cuda\" if torch.cuda.is_available() else \"cpu\")\n",
    "\n",
    "label2id = {\n",
    "    \"female\": 0,\n",
    "    \"male\": 1\n",
    "}\n",
    "\n",
    "id2label = {\n",
    "    0: \"female\",\n",
    "    1: \"male\"\n",
    "}\n",
    "\n",
    "num_labels = 2"
   ]
  },
  {
   "cell_type": "markdown",
   "metadata": {},
   "source": [
    "inference"
   ]
  },
  {
   "cell_type": "code",
   "execution_count": 3,
   "metadata": {},
   "outputs": [],
   "source": [
    "results_dict = {}\n",
    "\n",
    "def store_results(prob, file_name):\n",
    "  prob_list = prob.tolist()[0]\n",
    "  if prob_list[1] > prob_list[0]:\n",
    "    gender = \"Female\"\n",
    "    probability = prob_list[1]\n",
    "  else:\n",
    "    gender = \"Male\"\n",
    "    probability = prob_list[0]\n",
    "  results_dict[file_name] = {'pred': gender, 'prob': probability}\n",
    "\n",
    "for path in audio_path:\n",
    "  output = read(path)\n",
    "  waveform = np.array(output[1],dtype=float)\n",
    "  sound_array = np.array(waveform)\n",
    "  input_values = processor(sound_array, sampling_rate = 16000, padding='longest', return_tensors='pt').input_values\n",
    "  with torch.no_grad():\n",
    "    result = modelw(input_values).logits\n",
    "    prob = torch.nn.functional.softmax(result, dim=1)\n",
    "    store_results(prob, path)"
   ]
  },
  {
   "cell_type": "markdown",
   "metadata": {},
   "source": [
    "results"
   ]
  },
  {
   "cell_type": "code",
   "execution_count": 4,
   "metadata": {},
   "outputs": [
    {
     "data": {
      "text/plain": [
       "{'../data/1-17-2017/0.wav': {'pred': 'Female', 'prob': 0.998759388923645},\n",
       " '../data/1-17-2017/1.wav': {'pred': 'Female', 'prob': 0.9986407160758972},\n",
       " '../data/1-17-2017/2.wav': {'pred': 'Male', 'prob': 0.9919637441635132},\n",
       " '../data/1-17-2017/3.wav': {'pred': 'Female', 'prob': 0.9970661997795105},\n",
       " '../data/1-17-2017/4.wav': {'pred': 'Male', 'prob': 0.9986563920974731},\n",
       " '../data/1-17-2017/5.wav': {'pred': 'Male', 'prob': 0.99853515625}}"
      ]
     },
     "execution_count": 4,
     "metadata": {},
     "output_type": "execute_result"
    }
   ],
   "source": [
    "results_dict"
   ]
  },
  {
   "cell_type": "code",
   "execution_count": 5,
   "metadata": {},
   "outputs": [],
   "source": [
    "#true labels: [\"Male\", \"Female\", \"Male\", \"Male\", \"Male\", \"Female\"]\n",
    "#{'../data/1-17-2017/0.wav': {'pred': 'Female', 'prob': 0.998759388923645}}\n",
    "#{'../data/1-17-2017/1.wav': {'pred': 'Female', 'prob': 0.9986407160758972}}\n",
    "#{'../data/1-17-2017/2.wav': {'pred': 'Male', 'prob': 0.9919637441635132}}\n",
    "#{'../data/1-17-2017/3.wav': {'pred': 'Female', 'prob': 0.9970661997795105}}\n",
    "#{'../data/1-17-2017/4.wav': {'pred': 'Male', 'prob': 0.9986541271209717}}\n",
    "#{'../data/1-17-2017/5.wav': {'pred': 'Male', 'prob': 0.99853515625}}"
   ]
  },
  {
   "cell_type": "code",
   "execution_count": 6,
   "metadata": {},
   "outputs": [
    {
     "data": {
      "text/plain": [
       "tensor([[0.9985, 0.0015]])"
      ]
     },
     "execution_count": 6,
     "metadata": {},
     "output_type": "execute_result"
    }
   ],
   "source": [
    "prob"
   ]
  }
 ],
 "metadata": {
  "kernelspec": {
   "display_name": "Python 3",
   "language": "python",
   "name": "python3"
  },
  "language_info": {
   "codemirror_mode": {
    "name": "ipython",
    "version": 3
   },
   "file_extension": ".py",
   "mimetype": "text/x-python",
   "name": "python",
   "nbconvert_exporter": "python",
   "pygments_lexer": "ipython3",
   "version": "3.11.4"
  }
 },
 "nbformat": 4,
 "nbformat_minor": 2
}
